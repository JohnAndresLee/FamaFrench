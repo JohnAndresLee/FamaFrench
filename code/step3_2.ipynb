{
 "cells": [
  {
   "cell_type": "code",
   "execution_count": 1,
   "metadata": {},
   "outputs": [],
   "source": [
    "import pandas as pd"
   ]
  },
  {
   "cell_type": "code",
   "execution_count": 2,
   "metadata": {},
   "outputs": [],
   "source": [
    "finance = pd.read_csv('../data/step1/finance.csv', index_col=0)\n",
    "returns = pd.read_csv('../data/step1/returns.csv', index_col=0)\n",
    "for df in [finance, returns]:\n",
    "    df['Time'] = pd.to_datetime(df['Time'])\n",
    "d = pd.read_csv('../data/step3/Weighted_Return_Rate.csv', index_col=0)\n",
    "d = dict(d[['label', 'R']].values)"
   ]
  },
  {
   "cell_type": "code",
   "execution_count": 3,
   "metadata": {},
   "outputs": [],
   "source": [
    "T = [2012, 2013, 2014, 2015, 2016, 2017, 2018, 2019, 2020, 2021]\n",
    "for t in T:\n",
    "    m = 7\n",
    "    idx = []\n",
    "    rm = []\n",
    "    SMB = []\n",
    "    HML = []\n",
    "    RMW = []\n",
    "    CMA = []\n",
    "    rf = []\n",
    "    for y in [t - 2, t - 1, t]:\n",
    "        while (y < t and m <= 12) or (y == t and m <= 7):\n",
    "            label = str(t) + '_' + str(y) + str(m)\n",
    "            idx.append(label)\n",
    "            rm.append(returns[(returns['Time'].dt.year == y) & (returns['Time'].dt.month == m)]['Cmretwdos'].iloc[0])\n",
    "            SMB.append((d[label + '_BM_Aa'] + d[label + '_BM_Ab'] + d[label + '_BM_Ac'] + \\\n",
    "                        d[label + '_OP_Aa'] + d[label + '_OP_Ab'] + d[label + '_OP_Ac'] + \\\n",
    "                        d[label + '_INV_Aa'] + d[label + '_INV_Ab'] + d[label + '_INV_Ac'] - \\\n",
    "                        d[label + '_BM_Ba'] + d[label + '_BM_Bb'] + d[label + '_BM_Bc'] - \\\n",
    "                        d[label + '_OP_Ba'] + d[label + '_OP_Bb'] + d[label + '_OP_Bc'] - \\\n",
    "                        d[label + '_INV_Ba'] + d[label + '_INV_Bb'] + d[label + '_INV_Bc']) / 3)\n",
    "            HML.append((d[label + '_BM_Aa'] + d[label + '_BM_Ba'] - d[label + '_BM_Ac'] - d[label + '_BM_Bc']) / 2)\n",
    "            RMW.append((d[label + '_OP_Aa'] + d[label + '_OP_Ba'] - d[label + '_OP_Ac'] - d[label + '_OP_Bc']) / 2)\n",
    "            CMA.append((d[label + '_INV_Aa'] + d[label + '_INV_Ba'] - d[label + '_INV_Ac'] - d[label + '_INV_Bc']) / 2)\n",
    "            rf.append(returns[(returns['Time'].dt.year == y) & (returns['Time'].dt.month == m)]['Nrrmtdt'].iloc[0])\n",
    "            m += 1\n",
    "        m = 1\n",
    "    df = pd.DataFrame([idx, rm, SMB, HML, RMW, CMA, rf], index=None).T\n",
    "    df.columns = ['label', 'rm', 'SMB', 'HML', 'RMW', 'CMA', 'rf']\n",
    "    df['rm-rf'] = df['rm'] - df['rf']\n",
    "    df.to_csv('../data/step3/{}.csv'.format(t))"
   ]
  }
 ],
 "metadata": {
  "kernelspec": {
   "display_name": "Python 3.8.12 ('base')",
   "language": "python",
   "name": "python3"
  },
  "language_info": {
   "codemirror_mode": {
    "name": "ipython",
    "version": 3
   },
   "file_extension": ".py",
   "mimetype": "text/x-python",
   "name": "python",
   "nbconvert_exporter": "python",
   "pygments_lexer": "ipython3",
   "version": "3.8.12"
  },
  "orig_nbformat": 4,
  "vscode": {
   "interpreter": {
    "hash": "214c350a670c4d2b0c9409c1981f246bd5b045d850e07d576cdaefca7f0c8346"
   }
  }
 },
 "nbformat": 4,
 "nbformat_minor": 2
}
