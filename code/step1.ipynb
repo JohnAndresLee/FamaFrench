{
 "cells": [
  {
   "cell_type": "code",
   "execution_count": 1,
   "metadata": {},
   "outputs": [],
   "source": [
    "import pandas as pd"
   ]
  },
  {
   "cell_type": "code",
   "execution_count": 2,
   "metadata": {},
   "outputs": [],
   "source": [
    "# read data\n",
    "combas = pd.read_csv('../data/FS_Combas.csv')\n",
    "comins = pd.read_csv('../data/FS_Comins.csv')\n",
    "cnmont = pd.read_csv('../data/TRD_Cnmont.csv')\n",
    "mnth = pd.read_csv('../data/TRD_Mnth.csv')\n",
    "nrrate = pd.read_csv('../data/TRD_Nrrate.csv')"
   ]
  },
  {
   "cell_type": "code",
   "execution_count": 3,
   "metadata": {},
   "outputs": [],
   "source": [
    "# rename time cols\n",
    "combas.rename(columns={'Accper': 'Time'}, inplace=True)\n",
    "comins.rename(columns={'Accper': 'Time'}, inplace=True)\n",
    "cnmont.rename(columns={'Trdmnt': 'Time'}, inplace=True)\n",
    "mnth.rename(columns={'Trdmnt': 'Time'}, inplace=True)\n",
    "nrrate.rename(columns={'Clsdt': 'Time'}, inplace=True)"
   ]
  },
  {
   "cell_type": "code",
   "execution_count": 4,
   "metadata": {},
   "outputs": [],
   "source": [
    "# convert time, drop duplicates, drop nan\n",
    "for df in [combas, comins, cnmont, mnth, nrrate]:\n",
    "    df['Time'] = pd.to_datetime(df['Time'])\n",
    "    df.drop_duplicates(inplace=True)\n",
    "    df.dropna(inplace=True)"
   ]
  },
  {
   "cell_type": "code",
   "execution_count": 5,
   "metadata": {},
   "outputs": [],
   "source": [
    "# Typrep = 'A' needed\n",
    "combas = combas[combas['Typrep'] == 'A']\n",
    "comins = comins[comins['Typrep'] == 'A']\n",
    "# '06-30', '12-31' needed\n",
    "combas = combas[combas['Time'].dt.month % 6 == 0]\n",
    "comins = comins[comins['Time'].dt.month % 6 == 0]\n",
    "# merge combas and comins \n",
    "finance = pd.merge(combas, comins)\n",
    "finance.to_csv('../data/step1/finance.csv')"
   ]
  },
  {
   "cell_type": "code",
   "execution_count": 6,
   "metadata": {},
   "outputs": [],
   "source": [
    "cnmont = cnmont[cnmont['Markettype'] == 5]\n",
    "mnth = mnth[(mnth['Markettype'] == 1) | (mnth['Markettype'] == 4)]\n",
    "cnmont = cnmont[['Time', 'Cmretwdos']]\n",
    "mnth = mnth[['Stkcd', 'Time', 'Msmvosd', 'Mretwd']]\n",
    "nrrate = nrrate[['Time', 'Nrrmtdt']]\n",
    "returns = pd.merge(cnmont, mnth, how='right', on='Time')\n",
    "returns = pd.merge(returns, nrrate, how='left', on='Time')\n",
    "returns = returns[['Stkcd', 'Time', 'Cmretwdos', 'Msmvosd', 'Mretwd', 'Nrrmtdt']]\n",
    "returns['Msmvosd'] = returns['Msmvosd'] * 1000\n",
    "returns.to_csv('../data/step1/returns.csv')"
   ]
  }
 ],
 "metadata": {
  "kernelspec": {
   "display_name": "Python 3.9.7 ('pythonProject')",
   "language": "python",
   "name": "python3"
  },
  "language_info": {
   "codemirror_mode": {
    "name": "ipython",
    "version": 3
   },
   "file_extension": ".py",
   "mimetype": "text/x-python",
   "name": "python",
   "nbconvert_exporter": "python",
   "pygments_lexer": "ipython3",
   "version": "3.9.7"
  },
  "orig_nbformat": 4,
  "vscode": {
   "interpreter": {
    "hash": "ca95d59ae9cadeb7cfc70d60eb6f3cb705ea6fde23d7e32f9b400dcfcc919cb7"
   }
  }
 },
 "nbformat": 4,
 "nbformat_minor": 2
}
