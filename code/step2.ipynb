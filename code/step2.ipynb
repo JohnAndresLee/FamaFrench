{
 "cells": [
  {
   "cell_type": "code",
   "execution_count": 7,
   "metadata": {},
   "outputs": [],
   "source": [
    "import pandas as pd"
   ]
  },
  {
   "cell_type": "code",
   "execution_count": 8,
   "metadata": {},
   "outputs": [],
   "source": [
    "finance = pd.read_csv('../data/step1/finance.csv', index_col=0)\n",
    "returns = pd.read_csv('../data/step1/returns.csv', index_col=0)\n",
    "for df in [finance, returns]:\n",
    "    df['Time'] = pd.to_datetime(df['Time'])"
   ]
  },
  {
   "cell_type": "code",
   "execution_count": 9,
   "metadata": {},
   "outputs": [],
   "source": [
    "T = [2012, 2013, 2014, 2015, 2016, 2017, 2018, 2019, 2020, 2021]\n",
    "\n",
    "for t in T:\n",
    "    \n",
    "    # 为了计算因子，需要先计算第t期的各指标，根据各指标的分位点来分组，用于确定第t期（t年7月至t+1年6月）的各股票组合\n",
    "    # “市值” (Size) 指标是以股票i在第t年6月底的流通市值\n",
    "    # “账面市值比”(BM)是用第t-1年末的“账面价值/股票i的流通市值”\n",
    "    # “营运利润率”(OP)是用第t-1年末的“营业利润/股东权益合计”\n",
    "    # “投资风格”(INV)是用第t-1年末相对于第t-2年末的总资产增加额，除以第t-2年末的总资产\n",
    "    \n",
    "    # Size\n",
    "    Size = returns[(returns['Time'].dt.month == 7) & (returns['Time'].dt.year == t)][['Stkcd', 'Msmvosd']]\n",
    "    Size.rename(columns={'Msmvosd': 'Size'}, inplace=True)\n",
    "    \n",
    "    # BM\n",
    "    x = finance[(finance['Time'].dt.month == 12) & (finance['Time'].dt.year == t - 1)][['Stkcd', 'A001000000']]\n",
    "    y = returns[(returns['Time'].dt.month == 1) & (returns['Time'].dt.year == t)][['Stkcd', 'Msmvosd']]\n",
    "    BM = pd.merge(x, y, on='Stkcd')\n",
    "    BM['BM'] = BM['A001000000'] / BM['Msmvosd']\n",
    "    BM.drop('A001000000', axis=1, inplace=True)\n",
    "    BM.drop('Msmvosd', axis=1, inplace=True)\n",
    "    \n",
    "    # OP\n",
    "    x = finance[(finance['Time'].dt.month == 12) & (finance['Time'].dt.year == t - 1)][['Stkcd', 'B001300000']]\n",
    "    y = finance[(finance['Time'].dt.month == 12) & (finance['Time'].dt.year == t - 1)][['Stkcd', 'A003000000']]\n",
    "    OP = pd.merge(x, y, on='Stkcd')\n",
    "    OP['OP'] = OP['B001300000'] / OP['A003000000']\n",
    "    OP.drop('B001300000', axis=1, inplace=True)\n",
    "    OP.drop('A003000000', axis=1, inplace=True)\n",
    "    \n",
    "    # INV\n",
    "    x = finance[(finance['Time'].dt.month == 12) & (finance['Time'].dt.year == t - 1)][['Stkcd', 'A001000000']]\n",
    "    y = finance[(finance['Time'].dt.month == 12) & (finance['Time'].dt.year == t - 2)][['Stkcd', 'A001000000']]\n",
    "    x.rename(columns={'A001000000': 'A1'}, inplace=True)\n",
    "    y.rename(columns={'A001000000': 'A2'}, inplace='True')\n",
    "    INV = pd.merge(x, y, on='Stkcd')\n",
    "    INV['INV'] = (INV['A1'] - INV['A2']) / INV['A2']\n",
    "    INV.drop('A1', axis=1, inplace=True)\n",
    "    INV.drop('A2', axis=1, inplace=True)\n",
    "    \n",
    "    # merge Stkcd, Size, BM, OP, INV\n",
    "    df = pd.merge(Size, BM, on='Stkcd')\n",
    "    df = pd.merge(df, OP, on='Stkcd')\n",
    "    df = pd.merge(df, INV, on='Stkcd')\n",
    "    \n",
    "    # label\n",
    "    a_50 = df['Size'].quantile(0.5)\n",
    "    for i in range(df.shape[0]):\n",
    "        if df.loc[i, 'Size'] < a_50:\n",
    "            df.loc[i, 'Size'] = 'A'\n",
    "        else:\n",
    "            df.loc[i, 'Size'] = 'B'\n",
    "    \n",
    "    for item in ['BM', 'OP', 'INV']:\n",
    "        a_30 = df[item].quantile(0.3)\n",
    "        a_70 = df[item].quantile(0.7)\n",
    "        for i in range(df.shape[0]):\n",
    "            if df.loc[i, item] < a_30:\n",
    "                df.loc[i, item] = 'a'\n",
    "            elif df.loc[i, item] < a_70:\n",
    "                df.loc[i, item] = 'b'\n",
    "            else:\n",
    "                df.loc[i, item] = 'c'\n",
    "    \n",
    "    df.to_csv('../data/step2/{}.csv'.format(t), index=None)"
   ]
  }
 ],
 "metadata": {
  "kernelspec": {
   "display_name": "Python 3.9.7 ('pythonProject')",
   "language": "python",
   "name": "python3"
  },
  "language_info": {
   "codemirror_mode": {
    "name": "ipython",
    "version": 3
   },
   "file_extension": ".py",
   "mimetype": "text/x-python",
   "name": "python",
   "nbconvert_exporter": "python",
   "pygments_lexer": "ipython3",
   "version": "3.9.7"
  },
  "orig_nbformat": 4,
  "vscode": {
   "interpreter": {
    "hash": "ca95d59ae9cadeb7cfc70d60eb6f3cb705ea6fde23d7e32f9b400dcfcc919cb7"
   }
  }
 },
 "nbformat": 4,
 "nbformat_minor": 2
}
