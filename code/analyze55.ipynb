{
 "cells": [
  {
   "cell_type": "code",
   "execution_count": 1,
   "metadata": {},
   "outputs": [],
   "source": [
    "import numpy as np\n",
    "import pandas as pd"
   ]
  },
  {
   "cell_type": "code",
   "execution_count": 2,
   "metadata": {},
   "outputs": [],
   "source": [
    "T = [2012, 2013, 2014, 2015, 2016, 2017, 2018, 2019, 2020, 2021]\n",
    "col = ['Size', 'BM', 'OP', 'INV']"
   ]
  },
  {
   "cell_type": "code",
   "execution_count": 3,
   "metadata": {},
   "outputs": [],
   "source": [
    "for t in T:\n",
    "    df = pd.read_csv('../data/step2/value/{}.csv'.format(t))\n",
    "    for c in col:\n",
    "        a_20 = df[c].quantile(0.2)\n",
    "        a_40 = df[c].quantile(0.4)\n",
    "        a_60 = df[c].quantile(0.6)\n",
    "        a_80 = df[c].quantile(0.8)\n",
    "        for i in range(df.shape[0]):\n",
    "            if df.loc[i, c] < a_20:\n",
    "                df.loc[i, c] = 'A'\n",
    "            elif df.loc[i, c] < a_40:\n",
    "                df.loc[i, c] = 'B'\n",
    "            elif df.loc[i, c] < a_60:\n",
    "                df.loc[i, c] = 'C'\n",
    "            elif df.loc[i, c] < a_80:\n",
    "                df.loc[i, c] = 'D'\n",
    "            else:\n",
    "                df.loc[i, c] = 'E'\n",
    "    df.to_csv('../data/analyze55/label/{}.csv'.format(t))\n",
    "    "
   ]
  },
  {
   "cell_type": "code",
   "execution_count": 4,
   "metadata": {},
   "outputs": [],
   "source": [
    "finance = pd.read_csv('../data/step1/finance.csv')\n",
    "returns = pd.read_csv('../data/step1/returns.csv')\n",
    "for df in [finance, returns]:\n",
    "    df['Time'] = pd.to_datetime(df['Time'])"
   ]
  },
  {
   "cell_type": "code",
   "execution_count": 5,
   "metadata": {},
   "outputs": [],
   "source": [
    "stk_group = []\n",
    "for t in T:\n",
    "    df = pd.read_csv('../data/analyze55/label/{}.csv'.format(t))\n",
    "    for label1 in ['A', 'B', 'C', 'D', 'E']:\n",
    "        for item in ['BM', 'OP', 'INV']:\n",
    "            for label2 in ['A', 'B', 'C', 'D', 'E']:\n",
    "                stk = df[(df['Size'] == label1) & (df[item] == label2)]['Stkcd'].tolist()\n",
    "                stk_group.append((str(t) + '_' + item + '_' + label1 + label2, stk))\n",
    "stk_group = dict(stk_group)"
   ]
  },
  {
   "cell_type": "code",
   "execution_count": 6,
   "metadata": {},
   "outputs": [],
   "source": [
    "R = []\n",
    "for x in stk_group:\n",
    "    [year, item, label] = x.split('_')\n",
    "    year = int(year)\n",
    "    m = 7\n",
    "    \n",
    "    df = pd.DataFrame(index=None)\n",
    "    for st in stk_group[x]:\n",
    "        tmp = returns[returns['Stkcd'] == st]\n",
    "        df = pd.concat([df, tmp])\n",
    "    \n",
    "    for y in [year - 2, year - 1, year]:\n",
    "        while (y < year and m <= 12) or (y == year and m <= 7):\n",
    "            r = df[(df['Time'].dt.year == y) & (df['Time'].dt.month == m)][['Stkcd', 'Msmvosd', 'Mretwd']]\n",
    "            r['S*R'] = r['Msmvosd'] * r['Mretwd']\n",
    "            ans = r['S*R'].sum() / r['Msmvosd'].sum()\n",
    "            R.append((str(year) + '_' + str(y) + str(m) + '_' + item + '_' + label, ans))\n",
    "            m += 1\n",
    "        m = 1\n",
    "        \n",
    "R = pd.DataFrame(R, index=None)\n",
    "R.columns = ['label', 'R']\n",
    "R.to_csv('../data/analyze55/R.csv')"
   ]
  },
  {
   "cell_type": "code",
   "execution_count": 7,
   "metadata": {},
   "outputs": [
    {
     "name": "stdout",
     "output_type": "stream",
     "text": [
      "2012 ~ 2014\n",
      "BM\n",
      "2.42% 3.23% 3.38% 3.29% 2.50%\n",
      "2.85% 1.62% 2.17% 2.06% 1.53%\n",
      "1.92% 1.35% 1.99% 1.82% 1.05%\n",
      "1.36% 1.16% 1.39% 0.98% 0.35%\n",
      "0.92% 0.81% 0.64% 0.38% 0.64%\n",
      "OP\n",
      "1.91% 1.08% 1.76% 1.54% 0.55%\n",
      "1.81% 1.61% 1.81% 1.48% 1.18%\n",
      "2.05% 1.63% 2.27% 1.59% 0.68%\n",
      "1.72% 2.13% 1.90% 1.69% 0.59%\n",
      "1.98% 2.00% 2.04% 2.05% 1.08%\n",
      "INV\n",
      "1.94% 1.22% 1.99% 0.80% -0.23%\n",
      "1.67% 1.31% 1.81% 1.67% 0.99%\n",
      "1.70% 2.04% 1.76% 1.36% 0.48%\n",
      "1.99% 1.14% 2.01% 2.07% 1.33%\n",
      "2.20% 2.52% 2.25% 2.49% 1.87%\n",
      "2013 ~ 2015\n",
      "BM\n",
      "5.25% 6.42% 6.73% 5.51% 4.71%\n",
      "4.99% 4.52% 5.33% 5.41% 3.88%\n",
      "4.26% 4.44% 5.01% 5.02% 4.16%\n",
      "4.25% 4.79% 4.76% 4.40% 3.93%\n",
      "3.91% 4.23% 3.80% 4.09% 3.56%\n",
      "OP\n",
      "4.55% 4.86% 4.91% 5.22% 6.05%\n",
      "4.72% 4.94% 4.94% 5.00% 4.97%\n",
      "4.72% 4.73% 5.64% 4.94% 5.15%\n",
      "4.09% 4.80% 5.16% 4.91% 4.40%\n",
      "4.87% 5.18% 5.33% 4.48% 3.07%\n",
      "INV\n",
      "4.55% 5.11% 5.70% 5.13% 4.62%\n",
      "4.77% 4.42% 4.39% 4.56% 3.35%\n",
      "4.56% 4.61% 4.96% 4.29% 3.36%\n",
      "4.44% 4.75% 5.52% 4.75% 4.26%\n",
      "4.65% 5.71% 5.53% 5.77% 4.91%\n",
      "2014 ~ 2016\n",
      "BM\n",
      "5.79% 6.33% 6.17% 6.21% 5.10%\n",
      "5.22% 4.90% 5.31% 4.91% 3.19%\n",
      "4.83% 4.27% 3.96% 5.37% 4.13%\n",
      "3.95% 3.61% 3.74% 3.86% 3.71%\n",
      "3.93% 3.21% 3.27% 3.77% 2.76%\n",
      "OP\n",
      "4.66% 4.42% 4.16% 5.06% 3.94%\n",
      "4.78% 4.33% 4.95% 4.06% 3.85%\n",
      "4.84% 4.30% 4.65% 5.04% 1.97%\n",
      "4.62% 4.75% 3.80% 5.93% 3.88%\n",
      "4.97% 5.06% 5.03% 4.23% 3.29%\n",
      "INV\n",
      "4.79% 4.57% 4.01% 4.56% 3.85%\n",
      "4.14% 3.67% 4.08% 4.21% 2.15%\n",
      "4.81% 4.10% 4.00% 3.90% 2.87%\n",
      "4.36% 4.63% 4.61% 4.47% 3.80%\n",
      "5.99% 5.95% 5.96% 7.45% 5.02%\n"
     ]
    }
   ],
   "source": [
    "d = []\n",
    "R = pd.read_csv('../data/analyze55/R.csv', index_col=0)\n",
    "Y = [2014, 2015, 2016]\n",
    "\n",
    "for year in Y:\n",
    "    print(year - 2, '~', year)\n",
    "    for c in ['BM', 'OP', 'INV']:\n",
    "        print(c)\n",
    "        \n",
    "        for label1 in ['A', 'B', 'C', 'D', 'E']:\n",
    "            v1 = 0\n",
    "            v2 = 0\n",
    "            v3 = 0\n",
    "            v4 = 0\n",
    "            v5 = 0\n",
    "            m = 7\n",
    "            for y in [year - 2, year - 1, year]:\n",
    "                while (y < year and m <= 12) or (y == year and m <= 7):\n",
    "                    s = str(year) + '_' + str(y) + str(m) + '_' + c + '_'\n",
    "                    v1 += R[R['label'] == s + 'A' + label1]['R'].values\n",
    "                    v2 += R[R['label'] == s + 'B' + label1]['R'].values\n",
    "                    v3 += R[R['label'] == s + 'C' + label1]['R'].values\n",
    "                    v4 += R[R['label'] == s + 'D' + label1]['R'].values\n",
    "                    v5 += R[R['label'] == s + 'E' + label1]['R'].values\n",
    "                    m += 1\n",
    "                m = 1\n",
    "\n",
    "            v1 = '%.2f'%(v1 * 100 / 25) + '%'  \n",
    "            v2 = '%.2f'%(v2 * 100 / 25) + '%'\n",
    "            v3 = '%.2f'%(v3 * 100 / 25) + '%' \n",
    "            v4 = '%.2f'%(v4 * 100 / 25) + '%' \n",
    "            v5 = '%.2f'%(v5 * 100 / 25) + '%'\n",
    "            print(v1, v2, v3, v4, v5) \n",
    "            d.append([v1, v2, v3, v4, v5])\n",
    "\n",
    "d = pd.DataFrame(d)\n",
    "d.to_csv('../data/analyze55/example.csv')"
   ]
  }
 ],
 "metadata": {
  "kernelspec": {
   "display_name": "Python 3.8.12 ('base')",
   "language": "python",
   "name": "python3"
  },
  "language_info": {
   "codemirror_mode": {
    "name": "ipython",
    "version": 3
   },
   "file_extension": ".py",
   "mimetype": "text/x-python",
   "name": "python",
   "nbconvert_exporter": "python",
   "pygments_lexer": "ipython3",
   "version": "3.8.12"
  },
  "orig_nbformat": 4,
  "vscode": {
   "interpreter": {
    "hash": "214c350a670c4d2b0c9409c1981f246bd5b045d850e07d576cdaefca7f0c8346"
   }
  }
 },
 "nbformat": 4,
 "nbformat_minor": 2
}
