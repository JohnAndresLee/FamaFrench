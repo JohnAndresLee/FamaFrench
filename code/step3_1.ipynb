{
 "cells": [
  {
   "cell_type": "code",
   "execution_count": 1,
   "metadata": {},
   "outputs": [],
   "source": [
    "import pandas as pd"
   ]
  },
  {
   "cell_type": "code",
   "execution_count": 2,
   "metadata": {},
   "outputs": [],
   "source": [
    "finance = pd.read_csv('../data/step1/finance.csv')\n",
    "returns = pd.read_csv('../data/step1/returns.csv')\n",
    "for df in [finance, returns]:\n",
    "    df['Time'] = pd.to_datetime(df['Time'])\n",
    "stk = pd.DataFrame(returns['Stkcd'].unique(), columns=['Stkcd'])"
   ]
  },
  {
   "cell_type": "code",
   "execution_count": 3,
   "metadata": {},
   "outputs": [],
   "source": [
    "# Group: Size_BM, Size_OP, Size_INV (2[A, B] * 3[a, b, c])\n",
    "stk_group = []\n",
    "T = [2012, 2013, 2014, 2015, 2016, 2017, 2018, 2019, 2020, 2021]\n",
    "for t in T:\n",
    "    df = pd.read_csv('../data/step2/{}.csv'.format(t))\n",
    "    for label1 in ['A', 'B']:\n",
    "        for item in ['BM', 'OP', 'INV']:\n",
    "            for label2 in ['a', 'b', 'c']:\n",
    "                stk = df[(df['Size'] == label1) & (df[item] == label2)]['Stkcd'].tolist()\n",
    "                stk_group.append((str(t) + '_' + item + '_' + label1 + label2, stk))\n",
    "stk_group = dict(stk_group)"
   ]
  },
  {
   "cell_type": "code",
   "execution_count": 4,
   "metadata": {},
   "outputs": [],
   "source": [
    "# Calculate Weighted Return Rate R\n",
    "# R = sum(msmvosd * mretwd) / sum(msmvosd)\n",
    "# This part may take a bit long time.\n",
    "\n",
    "R = []\n",
    "for x in stk_group:\n",
    "    [year, item, label] = x.split('_')\n",
    "    year = int(year)\n",
    "    m = 7\n",
    "    \n",
    "    df = pd.DataFrame(index=None)\n",
    "    for st in stk_group[x]:\n",
    "        tmp = returns[returns['Stkcd'] == st]\n",
    "        df = pd.concat([df, tmp])\n",
    "    \n",
    "    for y in [year - 2, year - 1, year]:\n",
    "        while (y < year and m <= 12) or (y == year and m <= 7):\n",
    "            r = df[(df['Time'].dt.year == y) & (df['Time'].dt.month == m)][['Stkcd', 'Msmvosd', 'Mretwd']]\n",
    "            r['S*R'] = r['Msmvosd'] * r['Mretwd']\n",
    "            ans = r['S*R'].sum() / r['Msmvosd'].sum()\n",
    "            # print(str(y) + '_' + str(y) + str(m) + '_' + item + '_' + label, ans)\n",
    "            R.append((str(year) + '_' + str(y) + str(m) + '_' + item + '_' + label, ans))\n",
    "            m += 1\n",
    "        m = 1"
   ]
  },
  {
   "cell_type": "code",
   "execution_count": 5,
   "metadata": {},
   "outputs": [],
   "source": [
    "R = pd.DataFrame(R, index=None)\n",
    "R.columns = ['label', 'R']\n",
    "R.to_csv('../data/step3/Weighted_Return_Rate.csv')"
   ]
  }
 ],
 "metadata": {
  "kernelspec": {
   "display_name": "Python 3.9.7 ('pythonProject')",
   "language": "python",
   "name": "python3"
  },
  "language_info": {
   "codemirror_mode": {
    "name": "ipython",
    "version": 3
   },
   "file_extension": ".py",
   "mimetype": "text/x-python",
   "name": "python",
   "nbconvert_exporter": "python",
   "pygments_lexer": "ipython3",
   "version": "3.9.7"
  },
  "orig_nbformat": 4,
  "vscode": {
   "interpreter": {
    "hash": "ca95d59ae9cadeb7cfc70d60eb6f3cb705ea6fde23d7e32f9b400dcfcc919cb7"
   }
  }
 },
 "nbformat": 4,
 "nbformat_minor": 2
}
